{
 "cells": [
  {
   "cell_type": "markdown",
   "metadata": {},
   "source": [
    "# Simulation of Projectile in 2D space"
   ]
  },
  {
   "cell_type": "code",
   "execution_count": 1,
   "metadata": {},
   "outputs": [],
   "source": [
    "#imports\n",
    "\n",
    "import matplotlib.pyplot as plt\n",
    "import numpy as np\n",
    "import pandas as pd\n",
    "from math import pi, sin, cos\n",
    "from ipywidgets import interact"
   ]
  },
  {
   "cell_type": "code",
   "execution_count": 2,
   "metadata": {},
   "outputs": [],
   "source": [
    "#constants\n",
    "\n",
    "g = 9.8"
   ]
  },
  {
   "cell_type": "markdown",
   "metadata": {},
   "source": [
    "### Formulae\n",
    "\n",
    "#### Change in X w.r.t Time:\n",
    "$$\\Delta x = V _0 x \\cdot t$$\n",
    "\n",
    "#### Change in Y w.r.t Time:\n",
    "$$\\Delta y = V _0 y \\cdot t - \\frac{1}{2} \\cdot g \\cdot t^2$$\n",
    "\n",
    "#### Range:\n",
    "$$ R = \\frac {2 \\cdot V _0 ^2 \\cdot sin(2 \\theta)} {g} $$\n",
    "\n",
    "#### Maximum Height for a Given Angle and Velocity:\n",
    "$$ H_{max} = \\frac {V _0 ^2 \\cdot sin( \\theta )^2} {2 \\cdot g} $$\n",
    "\n",
    "#### Total Time of Flight:\n",
    "$$ T = \\frac {2 \\cdot V _0 \\cdot sin( \\theta)} {g} $$"
   ]
  },
  {
   "cell_type": "code",
   "execution_count": 3,
   "metadata": {},
   "outputs": [],
   "source": [
    "def deltaX(Vix, t):\n",
    "    return Vix * t\n",
    "\n",
    "def deltaY(Viy, t):\n",
    "    return Viy * t - 0.5 * g * t**2\n",
    "\n",
    "def range_of_projectile(Vi, theta):\n",
    "    return 2 * Vi**2 * np.sin(2*theta) / 9.8\n",
    "\n",
    "def maximum_height(Vi, theta):\n",
    "    return ((Vi *sin(theta))**2)/(2*g)\n",
    "\n",
    "def time_of_flight(Vi, theta):\n",
    "    return 2*Vi*sin(theta)/g"
   ]
  },
  {
   "cell_type": "markdown",
   "metadata": {},
   "source": [
    "### Generating the Time interval for making graph"
   ]
  },
  {
   "cell_type": "code",
   "execution_count": 4,
   "metadata": {},
   "outputs": [],
   "source": [
    "iters = 1000\n",
    "\n",
    "\n",
    "t = np.linspace(0, 10 , iters)\n",
    "data = pd.DataFrame(data=t, columns=['time'])"
   ]
  },
  {
   "cell_type": "markdown",
   "metadata": {},
   "source": [
    "### Writing the interactive plotting function "
   ]
  },
  {
   "cell_type": "code",
   "execution_count": 6,
   "metadata": {},
   "outputs": [
    {
     "data": {
      "application/vnd.jupyter.widget-view+json": {
       "model_id": "6c0adda39cbe410c8091f0609c3f450e",
       "version_major": 2,
       "version_minor": 0
      },
      "text/plain": [
       "interactive(children=(IntSlider(value=15, description='Vi', max=25, min=5), IntSlider(value=45, description='t…"
      ]
     },
     "metadata": {},
     "output_type": "display_data"
    },
    {
     "data": {
      "text/plain": [
       "<function __main__.range_interactive(Vi, theta)>"
      ]
     },
     "execution_count": 6,
     "metadata": {},
     "output_type": "execute_result"
    }
   ],
   "source": [
    "\n",
    "\n",
    "def range_interactive(Vi, theta):\n",
    "    theta_radian = theta*pi/180\n",
    "    \n",
    "    Vix = Vi * cos(theta_radian)\n",
    "    Viy = Vi * sin(theta_radian)\n",
    "    global data\n",
    "    data['dX'] = deltaX(Vix, data['time'])\n",
    "    data['dY'] = deltaY(Viy, data['time'])\n",
    "    new_data = data\n",
    "    \n",
    "    T = time_of_flight(Vi, theta_radian)\n",
    "    \n",
    "    plt.figure(figsize=[12,8])\n",
    "    xlim = deltaX(Vi * cos(pi/4), time_of_flight(Vi, pi/4))\n",
    "    ylim = maximum_height(Vi * sin(pi/2), pi/2)\n",
    "    plt.xlim(0, xlim)\n",
    "    plt.ylim(0.0, ylim)\n",
    "    plt.xlabel(\"Range in metres\", fontsize=14)\n",
    "    plt.ylabel(\"Height in metres\", fontsize=14)\n",
    "    plt.title(f\"Path of Projectile with Θ = {theta}° and Vi = {Vi} m/s\", fontsize=18)\n",
    "    \n",
    "    plt.plot(new_data['dX'], new_data['dY'])\n",
    "    \n",
    "    x = deltaX(Vix, T/2)\n",
    "    y = deltaY(Viy, T/2)\n",
    "    plt.plot([x, x], [y, 0], linestyle='dashed')\n",
    "    plt.annotate(f\"Hmax = {y:.2f} m\",[x, y], xycoords='data',\n",
    "            xytext=((x /xlim)+ 0.1, (y/ylim)+ 0.1), textcoords='axes fraction', arrowprops=dict(arrowstyle='->', facecolor='black'),\n",
    "            horizontalalignment='right', verticalalignment='top',size=14)\n",
    "    \n",
    "    \n",
    "    slope = (data['dY'][1] - data['dY'][0])/(data['dX'][1] - data['dX'][0])\n",
    "    \n",
    "    plt.annotate(\"\",\n",
    "            xy=(1, slope), xycoords='data',\n",
    "            xytext=(0, 0), textcoords='data',\n",
    "            arrowprops=dict(arrowstyle=\"->\",\n",
    "                            connectionstyle=\"arc3\"),\n",
    "                 size=14\n",
    "            )\n",
    "    \n",
    "    plt.annotate(f\"Vi = {Vi} m/s\",\n",
    "            xy=(1, slope), xycoords='data',\n",
    "            xytext=(1, slope), textcoords='data', size=14)\n",
    "    \n",
    "\n",
    "    plt.annotate(\"\",\n",
    "            xy=(deltaX(Vix, T), 0), xycoords='data',\n",
    "            xytext=(0, 0), textcoords='data',\n",
    "            arrowprops=dict(arrowstyle=\"<->\",\n",
    "                            connectionstyle=\"arc3\", color='green', linewidth=3),\n",
    "                 size=14\n",
    "            )\n",
    "    \n",
    "    R = range_of_projectile(Vi, theta_radian)\n",
    "    \n",
    "    plt.annotate(f\"R = {R:.2f} m\",\n",
    "            xy=(x, 0), xycoords='data',\n",
    "            xytext=(x, 0), textcoords='data', size=14)\n",
    "   \n",
    "    plt.show()\n",
    "    \n",
    "interact(range_interactive, Vi = (5, 25), theta = (0, 90))"
   ]
  },
  {
   "cell_type": "code",
   "execution_count": null,
   "metadata": {},
   "outputs": [],
   "source": []
  }
 ],
 "metadata": {
  "kernelspec": {
   "display_name": "Python 3",
   "language": "python",
   "name": "python3"
  },
  "language_info": {
   "codemirror_mode": {
    "name": "ipython",
    "version": 3
   },
   "file_extension": ".py",
   "mimetype": "text/x-python",
   "name": "python",
   "nbconvert_exporter": "python",
   "pygments_lexer": "ipython3",
   "version": "3.7.6"
  }
 },
 "nbformat": 4,
 "nbformat_minor": 4
}
